{
 "cells": [
  {
   "cell_type": "code",
   "execution_count": 1,
   "metadata": {
    "_cell_guid": "b1076dfc-b9ad-4769-8c92-a6c4dae69d19",
    "_uuid": "8f2839f25d086af736a60e9eeb907d3b93b6e0e5",
    "execution": {
     "iopub.execute_input": "2025-03-31T10:18:40.807275Z",
     "iopub.status.busy": "2025-03-31T10:18:40.806987Z",
     "iopub.status.idle": "2025-03-31T10:18:44.685979Z",
     "shell.execute_reply": "2025-03-31T10:18:44.684808Z",
     "shell.execute_reply.started": "2025-03-31T10:18:40.807247Z"
    }
   },
   "outputs": [],
   "source": [
    "# This Python 3 environment comes with many helpful analytics libraries installed\n",
    "# It is defined by the kaggle/python Docker image: https://github.com/kaggle/docker-python\n",
    "# For example, here's several helpful packages to load\n",
    "\n",
    "import numpy as np # linear algebra\n",
    "import pandas as pd # data processing, CSV file I/O (e.g. pd.read_csv)\n",
    "import matplotlib.pyplot as plt\n",
    "import seaborn as sns\n",
    "from nltk.stem.porter import PorterStemmer\n",
    "import pickle\n",
    "from sklearn.metrics.pairwise import cosine_similarity\n",
    "import nltk\n",
    "from sklearn.feature_extraction.text import CountVectorizer\n",
    "import warnings\n",
    "warnings.filterwarnings(\"ignore\")\n",
    "%matplotlib inline\n",
    "# Input data files are available in the read-only \"../input/\" directory\n",
    "# For example, running this (by clicking run or pressing Shift+Enter) will list all files under the input directory\n",
    "\n",
    "import os\n",
    "for dirname, _, filenames in os.walk('/kaggle/input'):\n",
    "    for filename in filenames:\n",
    "        print(os.path.join(dirname, filename))\n",
    "\n",
    "# You can write up to 20GB to the current directory (/kaggle/working/) that gets preserved as output when you create a version using \"Save & Run All\" \n",
    "# You can also write temporary files to /kaggle/temp/, but they won't be saved outside of the current session"
   ]
  },
  {
   "cell_type": "code",
   "execution_count": 2,
   "metadata": {
    "execution": {
     "iopub.execute_input": "2025-03-31T10:18:44.688454Z",
     "iopub.status.busy": "2025-03-31T10:18:44.687550Z",
     "iopub.status.idle": "2025-03-31T10:18:44.723540Z",
     "shell.execute_reply": "2025-03-31T10:18:44.722418Z",
     "shell.execute_reply.started": "2025-03-31T10:18:44.688412Z"
    }
   },
   "outputs": [],
   "source": [
    "df=pd.read_csv(\"/kaggle/input/korean-dramas-dataset-eda/kdrama_DATASET.csv\")"
   ]
  },
  {
   "cell_type": "code",
   "execution_count": 3,
   "metadata": {
    "execution": {
     "iopub.execute_input": "2025-03-31T10:18:44.726242Z",
     "iopub.status.busy": "2025-03-31T10:18:44.725821Z",
     "iopub.status.idle": "2025-03-31T10:18:44.758348Z",
     "shell.execute_reply": "2025-03-31T10:18:44.757270Z",
     "shell.execute_reply.started": "2025-03-31T10:18:44.726212Z"
    }
   },
   "outputs": [
    {
     "data": {
      "text/html": [
       "<div>\n",
       "<style scoped>\n",
       "    .dataframe tbody tr th:only-of-type {\n",
       "        vertical-align: middle;\n",
       "    }\n",
       "\n",
       "    .dataframe tbody tr th {\n",
       "        vertical-align: top;\n",
       "    }\n",
       "\n",
       "    .dataframe thead th {\n",
       "        text-align: right;\n",
       "    }\n",
       "</style>\n",
       "<table border=\"1\" class=\"dataframe\">\n",
       "  <thead>\n",
       "    <tr style=\"text-align: right;\">\n",
       "      <th></th>\n",
       "      <th>Rank</th>\n",
       "      <th>Title</th>\n",
       "      <th>Year of release</th>\n",
       "      <th>Number of Episodes</th>\n",
       "      <th>Rating</th>\n",
       "      <th>Description</th>\n",
       "      <th>Genre</th>\n",
       "      <th>Tags</th>\n",
       "      <th>Actors</th>\n",
       "    </tr>\n",
       "  </thead>\n",
       "  <tbody>\n",
       "    <tr>\n",
       "      <th>0</th>\n",
       "      <td>#1</td>\n",
       "      <td>Move to Heaven</td>\n",
       "      <td>2021</td>\n",
       "      <td>10</td>\n",
       "      <td>9.2</td>\n",
       "      <td>Geu Roo is a young autistic man. He works for ...</td>\n",
       "      <td>Life,  Drama,  Family</td>\n",
       "      <td>Autism, Uncle-Nephew Relationship, Death, Sava...</td>\n",
       "      <td>Lee Je Hoon, Tang Jun Sang, Hong Seung Hee, Ju...</td>\n",
       "    </tr>\n",
       "    <tr>\n",
       "      <th>1</th>\n",
       "      <td>#2</td>\n",
       "      <td>Twinkling Watermelon</td>\n",
       "      <td>2023</td>\n",
       "      <td>16</td>\n",
       "      <td>9.2</td>\n",
       "      <td>In 2023, high school student Eun Gyeol, a CODA...</td>\n",
       "      <td>Romance, Youth, Drama, Fantasy</td>\n",
       "      <td>Time Travel, Child From The Future, Sign Langu...</td>\n",
       "      <td>Ha Eun-Gyeol, Ha Yi-Chan, Choi Se-Kyung, Yoon ...</td>\n",
       "    </tr>\n",
       "    <tr>\n",
       "      <th>2</th>\n",
       "      <td>#3</td>\n",
       "      <td>Moving</td>\n",
       "      <td>2023</td>\n",
       "      <td>20</td>\n",
       "      <td>9.1</td>\n",
       "      <td>Kim Bong Seok, Jang Hui Su, and Lee Gang Hun, ...</td>\n",
       "      <td>Action, Thriller, Mystery, Supernatural</td>\n",
       "      <td>Graphic Violence, Supernatural Power, Multiple...</td>\n",
       "      <td>Ryu Seung Ryong, Han Hyo Joo, Zo In Sung</td>\n",
       "    </tr>\n",
       "    <tr>\n",
       "      <th>3</th>\n",
       "      <td>#4</td>\n",
       "      <td>The Trauma Code: Heroes on Call</td>\n",
       "      <td>2025</td>\n",
       "      <td>8</td>\n",
       "      <td>9.1</td>\n",
       "      <td>Baek Gang Hyeok, a genius trauma surgeon with ...</td>\n",
       "      <td>Action, Comedy, Drama, Medical</td>\n",
       "      <td>Surgeon Male Lead, Hospital Setting, Mentor-Me...</td>\n",
       "      <td>Ju Ji Hoon, Choo Young Woo, Ha Young, Yoon Gyu...</td>\n",
       "    </tr>\n",
       "    <tr>\n",
       "      <th>4</th>\n",
       "      <td>#5</td>\n",
       "      <td>Flower of Evil</td>\n",
       "      <td>2020</td>\n",
       "      <td>16</td>\n",
       "      <td>9.1</td>\n",
       "      <td>Although Baek Hee Sung is hiding a dark secret...</td>\n",
       "      <td>Thriller,  Romance,  Crime,  Melodrama</td>\n",
       "      <td>Married Couple, Deception, Suspense, Family Se...</td>\n",
       "      <td>Lee Joon Gi, Moon Chae Won, Jang Hee Jin, Seo ...</td>\n",
       "    </tr>\n",
       "  </tbody>\n",
       "</table>\n",
       "</div>"
      ],
      "text/plain": [
       "  Rank                             Title  Year of release  Number of Episodes  \\\n",
       "0   #1                    Move to Heaven             2021                  10   \n",
       "1   #2              Twinkling Watermelon             2023                  16   \n",
       "2   #3                            Moving             2023                  20   \n",
       "3   #4  The Trauma Code: Heroes on Call              2025                   8   \n",
       "4   #5                    Flower of Evil             2020                  16   \n",
       "\n",
       "   Rating                                        Description  \\\n",
       "0     9.2  Geu Roo is a young autistic man. He works for ...   \n",
       "1     9.2  In 2023, high school student Eun Gyeol, a CODA...   \n",
       "2     9.1  Kim Bong Seok, Jang Hui Su, and Lee Gang Hun, ...   \n",
       "3     9.1  Baek Gang Hyeok, a genius trauma surgeon with ...   \n",
       "4     9.1  Although Baek Hee Sung is hiding a dark secret...   \n",
       "\n",
       "                                     Genre  \\\n",
       "0                   Life,  Drama,  Family    \n",
       "1           Romance, Youth, Drama, Fantasy   \n",
       "2  Action, Thriller, Mystery, Supernatural   \n",
       "3           Action, Comedy, Drama, Medical   \n",
       "4  Thriller,  Romance,  Crime,  Melodrama    \n",
       "\n",
       "                                                Tags  \\\n",
       "0  Autism, Uncle-Nephew Relationship, Death, Sava...   \n",
       "1  Time Travel, Child From The Future, Sign Langu...   \n",
       "2  Graphic Violence, Supernatural Power, Multiple...   \n",
       "3  Surgeon Male Lead, Hospital Setting, Mentor-Me...   \n",
       "4  Married Couple, Deception, Suspense, Family Se...   \n",
       "\n",
       "                                              Actors  \n",
       "0  Lee Je Hoon, Tang Jun Sang, Hong Seung Hee, Ju...  \n",
       "1  Ha Eun-Gyeol, Ha Yi-Chan, Choi Se-Kyung, Yoon ...  \n",
       "2           Ryu Seung Ryong, Han Hyo Joo, Zo In Sung  \n",
       "3  Ju Ji Hoon, Choo Young Woo, Ha Young, Yoon Gyu...  \n",
       "4  Lee Joon Gi, Moon Chae Won, Jang Hee Jin, Seo ...  "
      ]
     },
     "execution_count": 3,
     "metadata": {},
     "output_type": "execute_result"
    }
   ],
   "source": [
    "df.head()"
   ]
  },
  {
   "cell_type": "code",
   "execution_count": 4,
   "metadata": {
    "execution": {
     "iopub.execute_input": "2025-03-31T10:18:44.760505Z",
     "iopub.status.busy": "2025-03-31T10:18:44.760162Z",
     "iopub.status.idle": "2025-03-31T10:18:44.766770Z",
     "shell.execute_reply": "2025-03-31T10:18:44.765413Z",
     "shell.execute_reply.started": "2025-03-31T10:18:44.760470Z"
    }
   },
   "outputs": [
    {
     "data": {
      "text/plain": [
       "(350, 9)"
      ]
     },
     "execution_count": 4,
     "metadata": {},
     "output_type": "execute_result"
    }
   ],
   "source": [
    "df.shape"
   ]
  },
  {
   "cell_type": "code",
   "execution_count": 5,
   "metadata": {
    "execution": {
     "iopub.execute_input": "2025-03-31T10:18:44.768427Z",
     "iopub.status.busy": "2025-03-31T10:18:44.768073Z",
     "iopub.status.idle": "2025-03-31T10:18:44.791061Z",
     "shell.execute_reply": "2025-03-31T10:18:44.789977Z",
     "shell.execute_reply.started": "2025-03-31T10:18:44.768400Z"
    }
   },
   "outputs": [
    {
     "data": {
      "text/plain": [
       "Rank                  0\n",
       "Title                 0\n",
       "Year of release       0\n",
       "Number of Episodes    0\n",
       "Rating                0\n",
       "Description           0\n",
       "Genre                 0\n",
       "Tags                  0\n",
       "Actors                0\n",
       "dtype: int64"
      ]
     },
     "execution_count": 5,
     "metadata": {},
     "output_type": "execute_result"
    }
   ],
   "source": [
    "df.isna().sum()"
   ]
  },
  {
   "cell_type": "code",
   "execution_count": 6,
   "metadata": {
    "execution": {
     "iopub.execute_input": "2025-03-31T10:18:44.792559Z",
     "iopub.status.busy": "2025-03-31T10:18:44.792183Z",
     "iopub.status.idle": "2025-03-31T10:18:44.817000Z",
     "shell.execute_reply": "2025-03-31T10:18:44.815870Z",
     "shell.execute_reply.started": "2025-03-31T10:18:44.792525Z"
    }
   },
   "outputs": [
    {
     "data": {
      "text/plain": [
       "0"
      ]
     },
     "execution_count": 6,
     "metadata": {},
     "output_type": "execute_result"
    }
   ],
   "source": [
    "df.duplicated().sum()"
   ]
  },
  {
   "cell_type": "code",
   "execution_count": 7,
   "metadata": {
    "execution": {
     "iopub.execute_input": "2025-03-31T10:18:44.818615Z",
     "iopub.status.busy": "2025-03-31T10:18:44.818224Z",
     "iopub.status.idle": "2025-03-31T10:18:44.838028Z",
     "shell.execute_reply": "2025-03-31T10:18:44.836976Z",
     "shell.execute_reply.started": "2025-03-31T10:18:44.818579Z"
    }
   },
   "outputs": [
    {
     "name": "stdout",
     "output_type": "stream",
     "text": [
      "<class 'pandas.core.frame.DataFrame'>\n",
      "RangeIndex: 350 entries, 0 to 349\n",
      "Data columns (total 9 columns):\n",
      " #   Column              Non-Null Count  Dtype  \n",
      "---  ------              --------------  -----  \n",
      " 0   Rank                350 non-null    object \n",
      " 1   Title               350 non-null    object \n",
      " 2   Year of release     350 non-null    int64  \n",
      " 3   Number of Episodes  350 non-null    int64  \n",
      " 4   Rating              350 non-null    float64\n",
      " 5   Description         350 non-null    object \n",
      " 6   Genre               350 non-null    object \n",
      " 7   Tags                350 non-null    object \n",
      " 8   Actors              350 non-null    object \n",
      "dtypes: float64(1), int64(2), object(6)\n",
      "memory usage: 24.7+ KB\n"
     ]
    }
   ],
   "source": [
    "df.info()"
   ]
  },
  {
   "cell_type": "code",
   "execution_count": 8,
   "metadata": {
    "execution": {
     "iopub.execute_input": "2025-03-31T10:18:44.839414Z",
     "iopub.status.busy": "2025-03-31T10:18:44.839074Z",
     "iopub.status.idle": "2025-03-31T10:18:44.858308Z",
     "shell.execute_reply": "2025-03-31T10:18:44.857316Z",
     "shell.execute_reply.started": "2025-03-31T10:18:44.839377Z"
    }
   },
   "outputs": [
    {
     "name": "stdout",
     "output_type": "stream",
     "text": [
      "Maximum Rating received: 9.2\n",
      "Minimum Rating received: 6.4\n"
     ]
    }
   ],
   "source": [
    "print(\"Maximum Rating received:\", df['Rating'].max())\n",
    "print(\"Minimum Rating received:\", df['Rating'].min())"
   ]
  },
  {
   "cell_type": "code",
   "execution_count": 9,
   "metadata": {
    "execution": {
     "iopub.execute_input": "2025-03-31T10:18:44.862943Z",
     "iopub.status.busy": "2025-03-31T10:18:44.862477Z",
     "iopub.status.idle": "2025-03-31T10:18:44.890674Z",
     "shell.execute_reply": "2025-03-31T10:18:44.889598Z",
     "shell.execute_reply.started": "2025-03-31T10:18:44.862897Z"
    }
   },
   "outputs": [
    {
     "data": {
      "text/html": [
       "<div>\n",
       "<style scoped>\n",
       "    .dataframe tbody tr th:only-of-type {\n",
       "        vertical-align: middle;\n",
       "    }\n",
       "\n",
       "    .dataframe tbody tr th {\n",
       "        vertical-align: top;\n",
       "    }\n",
       "\n",
       "    .dataframe thead th {\n",
       "        text-align: right;\n",
       "    }\n",
       "</style>\n",
       "<table border=\"1\" class=\"dataframe\">\n",
       "  <thead>\n",
       "    <tr style=\"text-align: right;\">\n",
       "      <th></th>\n",
       "      <th>Rank</th>\n",
       "      <th>Title</th>\n",
       "      <th>Year of release</th>\n",
       "      <th>Number of Episodes</th>\n",
       "      <th>Rating</th>\n",
       "      <th>Description</th>\n",
       "      <th>Genre</th>\n",
       "      <th>Tags</th>\n",
       "      <th>Actors</th>\n",
       "    </tr>\n",
       "  </thead>\n",
       "  <tbody>\n",
       "    <tr>\n",
       "      <th>0</th>\n",
       "      <td>#1</td>\n",
       "      <td>Move to Heaven</td>\n",
       "      <td>2021</td>\n",
       "      <td>10</td>\n",
       "      <td>9.2</td>\n",
       "      <td>Geu Roo is a young autistic man. He works for ...</td>\n",
       "      <td>Life,  Drama,  Family</td>\n",
       "      <td>Autism, Uncle-Nephew Relationship, Death, Sava...</td>\n",
       "      <td>Lee Je Hoon, Tang Jun Sang, Hong Seung Hee, Ju...</td>\n",
       "    </tr>\n",
       "    <tr>\n",
       "      <th>1</th>\n",
       "      <td>#2</td>\n",
       "      <td>Twinkling Watermelon</td>\n",
       "      <td>2023</td>\n",
       "      <td>16</td>\n",
       "      <td>9.2</td>\n",
       "      <td>In 2023, high school student Eun Gyeol, a CODA...</td>\n",
       "      <td>Romance, Youth, Drama, Fantasy</td>\n",
       "      <td>Time Travel, Child From The Future, Sign Langu...</td>\n",
       "      <td>Ha Eun-Gyeol, Ha Yi-Chan, Choi Se-Kyung, Yoon ...</td>\n",
       "    </tr>\n",
       "  </tbody>\n",
       "</table>\n",
       "</div>"
      ],
      "text/plain": [
       "  Rank                 Title  Year of release  Number of Episodes  Rating  \\\n",
       "0   #1        Move to Heaven             2021                  10     9.2   \n",
       "1   #2  Twinkling Watermelon             2023                  16     9.2   \n",
       "\n",
       "                                         Description  \\\n",
       "0  Geu Roo is a young autistic man. He works for ...   \n",
       "1  In 2023, high school student Eun Gyeol, a CODA...   \n",
       "\n",
       "                            Genre  \\\n",
       "0          Life,  Drama,  Family    \n",
       "1  Romance, Youth, Drama, Fantasy   \n",
       "\n",
       "                                                Tags  \\\n",
       "0  Autism, Uncle-Nephew Relationship, Death, Sava...   \n",
       "1  Time Travel, Child From The Future, Sign Langu...   \n",
       "\n",
       "                                              Actors  \n",
       "0  Lee Je Hoon, Tang Jun Sang, Hong Seung Hee, Ju...  \n",
       "1  Ha Eun-Gyeol, Ha Yi-Chan, Choi Se-Kyung, Yoon ...  "
      ]
     },
     "execution_count": 9,
     "metadata": {},
     "output_type": "execute_result"
    }
   ],
   "source": [
    "df[df['Rating']==9.2]"
   ]
  },
  {
   "cell_type": "code",
   "execution_count": 10,
   "metadata": {
    "execution": {
     "iopub.execute_input": "2025-03-31T10:18:44.893679Z",
     "iopub.status.busy": "2025-03-31T10:18:44.893296Z",
     "iopub.status.idle": "2025-03-31T10:18:44.919823Z",
     "shell.execute_reply": "2025-03-31T10:18:44.918585Z",
     "shell.execute_reply.started": "2025-03-31T10:18:44.893650Z"
    }
   },
   "outputs": [
    {
     "data": {
      "text/html": [
       "<div>\n",
       "<style scoped>\n",
       "    .dataframe tbody tr th:only-of-type {\n",
       "        vertical-align: middle;\n",
       "    }\n",
       "\n",
       "    .dataframe tbody tr th {\n",
       "        vertical-align: top;\n",
       "    }\n",
       "\n",
       "    .dataframe thead th {\n",
       "        text-align: right;\n",
       "    }\n",
       "</style>\n",
       "<table border=\"1\" class=\"dataframe\">\n",
       "  <thead>\n",
       "    <tr style=\"text-align: right;\">\n",
       "      <th></th>\n",
       "      <th>Rank</th>\n",
       "      <th>Title</th>\n",
       "      <th>Year of release</th>\n",
       "      <th>Number of Episodes</th>\n",
       "      <th>Rating</th>\n",
       "      <th>Description</th>\n",
       "      <th>Genre</th>\n",
       "      <th>Tags</th>\n",
       "      <th>Actors</th>\n",
       "    </tr>\n",
       "  </thead>\n",
       "  <tbody>\n",
       "    <tr>\n",
       "      <th>349</th>\n",
       "      <td>#350</td>\n",
       "      <td>Goodbye Earth</td>\n",
       "      <td>2024</td>\n",
       "      <td>12</td>\n",
       "      <td>6.4</td>\n",
       "      <td>An asteroid is on course to crash into Earth i...</td>\n",
       "      <td>Thriller, Psychological, Drama, Sci-Fi</td>\n",
       "      <td>Former Teacher Female Lead, Protective Female ...</td>\n",
       "      <td>Ahn Eun Jin, Yoo Ah In, Jeon Sung Woo, Kim Yoo...</td>\n",
       "    </tr>\n",
       "  </tbody>\n",
       "</table>\n",
       "</div>"
      ],
      "text/plain": [
       "     Rank          Title  Year of release  Number of Episodes  Rating  \\\n",
       "349  #350  Goodbye Earth             2024                  12     6.4   \n",
       "\n",
       "                                           Description  \\\n",
       "349  An asteroid is on course to crash into Earth i...   \n",
       "\n",
       "                                      Genre  \\\n",
       "349  Thriller, Psychological, Drama, Sci-Fi   \n",
       "\n",
       "                                                  Tags  \\\n",
       "349  Former Teacher Female Lead, Protective Female ...   \n",
       "\n",
       "                                                Actors  \n",
       "349  Ahn Eun Jin, Yoo Ah In, Jeon Sung Woo, Kim Yoo...  "
      ]
     },
     "execution_count": 10,
     "metadata": {},
     "output_type": "execute_result"
    }
   ],
   "source": [
    "df[df['Rating']==6.4]"
   ]
  },
  {
   "cell_type": "markdown",
   "metadata": {
    "execution": {
     "iopub.execute_input": "2025-03-30T17:40:21.303757Z",
     "iopub.status.busy": "2025-03-30T17:40:21.303395Z",
     "iopub.status.idle": "2025-03-30T17:40:21.316864Z",
     "shell.execute_reply": "2025-03-30T17:40:21.315776Z",
     "shell.execute_reply.started": "2025-03-30T17:40:21.303732Z"
    }
   },
   "source": [
    "### Let's remove the '#' from Rank because it doesn't make sense"
   ]
  },
  {
   "cell_type": "code",
   "execution_count": 11,
   "metadata": {
    "execution": {
     "iopub.execute_input": "2025-03-31T10:18:44.921563Z",
     "iopub.status.busy": "2025-03-31T10:18:44.921134Z",
     "iopub.status.idle": "2025-03-31T10:18:44.939975Z",
     "shell.execute_reply": "2025-03-31T10:18:44.938577Z",
     "shell.execute_reply.started": "2025-03-31T10:18:44.921508Z"
    }
   },
   "outputs": [],
   "source": [
    "df['Rank']=df['Rank'].apply(lambda x: x.split(\"#\")[1])"
   ]
  },
  {
   "cell_type": "code",
   "execution_count": 12,
   "metadata": {
    "execution": {
     "iopub.execute_input": "2025-03-31T10:18:44.941363Z",
     "iopub.status.busy": "2025-03-31T10:18:44.941036Z",
     "iopub.status.idle": "2025-03-31T10:18:44.957413Z",
     "shell.execute_reply": "2025-03-31T10:18:44.956286Z",
     "shell.execute_reply.started": "2025-03-31T10:18:44.941333Z"
    }
   },
   "outputs": [],
   "source": [
    "df['Rank']=df['Rank'].astype(\"int\")"
   ]
  },
  {
   "cell_type": "code",
   "execution_count": 13,
   "metadata": {
    "execution": {
     "iopub.execute_input": "2025-03-31T10:18:44.958750Z",
     "iopub.status.busy": "2025-03-31T10:18:44.958398Z",
     "iopub.status.idle": "2025-03-31T10:18:45.309283Z",
     "shell.execute_reply": "2025-03-31T10:18:45.307998Z",
     "shell.execute_reply.started": "2025-03-31T10:18:44.958686Z"
    }
   },
   "outputs": [
    {
     "data": {
      "image/png": "[encoded data removed]",
      "text/plain": [
       "<Figure size 640x480 with 1 Axes>"
      ]
     },
     "metadata": {},
     "output_type": "display_data"
    }
   ],
   "source": [
    "sns.histplot(x=\"Number of Episodes\", bins=20, data=df, kde=True)\n",
    "plt.show()"
   ]
  },
  {
   "cell_type": "code",
   "execution_count": 14,
   "metadata": {
    "execution": {
     "iopub.execute_input": "2025-03-31T10:18:45.310717Z",
     "iopub.status.busy": "2025-03-31T10:18:45.310377Z",
     "iopub.status.idle": "2025-03-31T10:18:45.317368Z",
     "shell.execute_reply": "2025-03-31T10:18:45.315609Z",
     "shell.execute_reply.started": "2025-03-31T10:18:45.310690Z"
    }
   },
   "outputs": [
    {
     "name": "stdout",
     "output_type": "stream",
     "text": [
      "Maximum number of Episodes: 133\n",
      "Minimum number of Episodes: 1\n"
     ]
    }
   ],
   "source": [
    "print(\"Maximum number of Episodes:\", df['Number of Episodes'].max())\n",
    "print(\"Minimum number of Episodes:\", df['Number of Episodes'].min())"
   ]
  },
  {
   "cell_type": "code",
   "execution_count": 15,
   "metadata": {
    "execution": {
     "iopub.execute_input": "2025-03-31T10:18:45.318615Z",
     "iopub.status.busy": "2025-03-31T10:18:45.318331Z",
     "iopub.status.idle": "2025-03-31T10:18:45.340019Z",
     "shell.execute_reply": "2025-03-31T10:18:45.338897Z",
     "shell.execute_reply.started": "2025-03-31T10:18:45.318591Z"
    }
   },
   "outputs": [
    {
     "name": "stdout",
     "output_type": "stream",
     "text": [
      "Minimum release year: 2003\n",
      "Maximum release year: 2025\n"
     ]
    }
   ],
   "source": [
    "print(\"Minimum release year:\", df['Year of release'].min())\n",
    "print(\"Maximum release year:\", df['Year of release'].max())"
   ]
  },
  {
   "cell_type": "markdown",
   "metadata": {},
   "source": [
    "### Let's see the top-10 rank dramas"
   ]
  },
  {
   "cell_type": "code",
   "execution_count": 16,
   "metadata": {
    "execution": {
     "iopub.execute_input": "2025-03-31T10:18:45.342036Z",
     "iopub.status.busy": "2025-03-31T10:18:45.341574Z",
     "iopub.status.idle": "2025-03-31T10:18:45.373708Z",
     "shell.execute_reply": "2025-03-31T10:18:45.372669Z",
     "shell.execute_reply.started": "2025-03-31T10:18:45.341995Z"
    }
   },
   "outputs": [
    {
     "data": {
      "text/html": [
       "<div>\n",
       "<style scoped>\n",
       "    .dataframe tbody tr th:only-of-type {\n",
       "        vertical-align: middle;\n",
       "    }\n",
       "\n",
       "    .dataframe tbody tr th {\n",
       "        vertical-align: top;\n",
       "    }\n",
       "\n",
       "    .dataframe thead th {\n",
       "        text-align: right;\n",
       "    }\n",
       "</style>\n",
       "<table border=\"1\" class=\"dataframe\">\n",
       "  <thead>\n",
       "    <tr style=\"text-align: right;\">\n",
       "      <th></th>\n",
       "      <th>Rank</th>\n",
       "      <th>Title</th>\n",
       "      <th>Year of release</th>\n",
       "      <th>Number of Episodes</th>\n",
       "      <th>Rating</th>\n",
       "      <th>Description</th>\n",
       "      <th>Genre</th>\n",
       "      <th>Tags</th>\n",
       "      <th>Actors</th>\n",
       "    </tr>\n",
       "  </thead>\n",
       "  <tbody>\n",
       "    <tr>\n",
       "      <th>0</th>\n",
       "      <td>1</td>\n",
       "      <td>Move to Heaven</td>\n",
       "      <td>2021</td>\n",
       "      <td>10</td>\n",
       "      <td>9.2</td>\n",
       "      <td>Geu Roo is a young autistic man. He works for ...</td>\n",
       "      <td>Life,  Drama,  Family</td>\n",
       "      <td>Autism, Uncle-Nephew Relationship, Death, Sava...</td>\n",
       "      <td>Lee Je Hoon, Tang Jun Sang, Hong Seung Hee, Ju...</td>\n",
       "    </tr>\n",
       "    <tr>\n",
       "      <th>1</th>\n",
       "      <td>2</td>\n",
       "      <td>Twinkling Watermelon</td>\n",
       "      <td>2023</td>\n",
       "      <td>16</td>\n",
       "      <td>9.2</td>\n",
       "      <td>In 2023, high school student Eun Gyeol, a CODA...</td>\n",
       "      <td>Romance, Youth, Drama, Fantasy</td>\n",
       "      <td>Time Travel, Child From The Future, Sign Langu...</td>\n",
       "      <td>Ha Eun-Gyeol, Ha Yi-Chan, Choi Se-Kyung, Yoon ...</td>\n",
       "    </tr>\n",
       "    <tr>\n",
       "      <th>2</th>\n",
       "      <td>3</td>\n",
       "      <td>Moving</td>\n",
       "      <td>2023</td>\n",
       "      <td>20</td>\n",
       "      <td>9.1</td>\n",
       "      <td>Kim Bong Seok, Jang Hui Su, and Lee Gang Hun, ...</td>\n",
       "      <td>Action, Thriller, Mystery, Supernatural</td>\n",
       "      <td>Graphic Violence, Supernatural Power, Multiple...</td>\n",
       "      <td>Ryu Seung Ryong, Han Hyo Joo, Zo In Sung</td>\n",
       "    </tr>\n",
       "    <tr>\n",
       "      <th>3</th>\n",
       "      <td>4</td>\n",
       "      <td>The Trauma Code: Heroes on Call</td>\n",
       "      <td>2025</td>\n",
       "      <td>8</td>\n",
       "      <td>9.1</td>\n",
       "      <td>Baek Gang Hyeok, a genius trauma surgeon with ...</td>\n",
       "      <td>Action, Comedy, Drama, Medical</td>\n",
       "      <td>Surgeon Male Lead, Hospital Setting, Mentor-Me...</td>\n",
       "      <td>Ju Ji Hoon, Choo Young Woo, Ha Young, Yoon Gyu...</td>\n",
       "    </tr>\n",
       "    <tr>\n",
       "      <th>4</th>\n",
       "      <td>5</td>\n",
       "      <td>Flower of Evil</td>\n",
       "      <td>2020</td>\n",
       "      <td>16</td>\n",
       "      <td>9.1</td>\n",
       "      <td>Although Baek Hee Sung is hiding a dark secret...</td>\n",
       "      <td>Thriller,  Romance,  Crime,  Melodrama</td>\n",
       "      <td>Married Couple, Deception, Suspense, Family Se...</td>\n",
       "      <td>Lee Joon Gi, Moon Chae Won, Jang Hee Jin, Seo ...</td>\n",
       "    </tr>\n",
       "    <tr>\n",
       "      <th>5</th>\n",
       "      <td>6</td>\n",
       "      <td>Hospital Playlist</td>\n",
       "      <td>2020</td>\n",
       "      <td>12</td>\n",
       "      <td>9.1</td>\n",
       "      <td>The stories of people going through their days...</td>\n",
       "      <td>Friendship,  Romance,  Life,  Medical</td>\n",
       "      <td>Strong Friendship, Multiple Mains, Best Friend...</td>\n",
       "      <td>Jo Jung Suk, Yoo Yeon Seok, Jung Kyung Ho, Kim...</td>\n",
       "    </tr>\n",
       "    <tr>\n",
       "      <th>6</th>\n",
       "      <td>7</td>\n",
       "      <td>Hospital Playlist 2</td>\n",
       "      <td>2021</td>\n",
       "      <td>12</td>\n",
       "      <td>9.1</td>\n",
       "      <td>Everyday is extraordinary for five doctors and...</td>\n",
       "      <td>Friendship,  Romance,  Life,  Medical</td>\n",
       "      <td>Workplace, Strong Friendship, Best Friends, Mu...</td>\n",
       "      <td>Jo Jung Suk, Yoo Yeon Seok, Jung Kyung Ho, Kim...</td>\n",
       "    </tr>\n",
       "    <tr>\n",
       "      <th>7</th>\n",
       "      <td>8</td>\n",
       "      <td>My Mister</td>\n",
       "      <td>2018</td>\n",
       "      <td>16</td>\n",
       "      <td>9.1</td>\n",
       "      <td>Park Dong Hoon is a middle-aged engineer who i...</td>\n",
       "      <td>Psychological,  Life,  Drama,  Family</td>\n",
       "      <td>Age Gap, Nice Male Lead, Strong Female Lead, H...</td>\n",
       "      <td>Lee Sun Kyun, IU, Park Ho San, Song Sae Byuk, ...</td>\n",
       "    </tr>\n",
       "    <tr>\n",
       "      <th>8</th>\n",
       "      <td>9</td>\n",
       "      <td>Reply 1988</td>\n",
       "      <td>2015</td>\n",
       "      <td>20</td>\n",
       "      <td>9.1</td>\n",
       "      <td>Five childhood friends, who all live in the sa...</td>\n",
       "      <td>Comedy,  Romance,  Youth,  Family</td>\n",
       "      <td>Neighbors, Slice Of Life, Childhood Friends, M...</td>\n",
       "      <td>Lee Hye Ri, Go Kyung Pyo, Ryu Joon Yeol, Park ...</td>\n",
       "    </tr>\n",
       "    <tr>\n",
       "      <th>9</th>\n",
       "      <td>10</td>\n",
       "      <td>Weak Hero Class 1</td>\n",
       "      <td>2022</td>\n",
       "      <td>8</td>\n",
       "      <td>9.1</td>\n",
       "      <td>Yeon Shi Eun is a model student who ranks at t...</td>\n",
       "      <td>Action, Youth, Drama</td>\n",
       "      <td>Bromance, Smart Male Lead, Violence, School Bu...</td>\n",
       "      <td>Park Ji Hoon, Choi Hyun Wook, Hong Kyung, Kim ...</td>\n",
       "    </tr>\n",
       "  </tbody>\n",
       "</table>\n",
       "</div>"
      ],
      "text/plain": [
       "   Rank                             Title  Year of release  \\\n",
       "0     1                    Move to Heaven             2021   \n",
       "1     2              Twinkling Watermelon             2023   \n",
       "2     3                            Moving             2023   \n",
       "3     4  The Trauma Code: Heroes on Call              2025   \n",
       "4     5                    Flower of Evil             2020   \n",
       "5     6                 Hospital Playlist             2020   \n",
       "6     7               Hospital Playlist 2             2021   \n",
       "7     8                         My Mister             2018   \n",
       "8     9                        Reply 1988             2015   \n",
       "9    10                 Weak Hero Class 1             2022   \n",
       "\n",
       "   Number of Episodes  Rating  \\\n",
       "0                  10     9.2   \n",
       "1                  16     9.2   \n",
       "2                  20     9.1   \n",
       "3                   8     9.1   \n",
       "4                  16     9.1   \n",
       "5                  12     9.1   \n",
       "6                  12     9.1   \n",
       "7                  16     9.1   \n",
       "8                  20     9.1   \n",
       "9                   8     9.1   \n",
       "\n",
       "                                         Description  \\\n",
       "0  Geu Roo is a young autistic man. He works for ...   \n",
       "1  In 2023, high school student Eun Gyeol, a CODA...   \n",
       "2  Kim Bong Seok, Jang Hui Su, and Lee Gang Hun, ...   \n",
       "3  Baek Gang Hyeok, a genius trauma surgeon with ...   \n",
       "4  Although Baek Hee Sung is hiding a dark secret...   \n",
       "5  The stories of people going through their days...   \n",
       "6  Everyday is extraordinary for five doctors and...   \n",
       "7  Park Dong Hoon is a middle-aged engineer who i...   \n",
       "8  Five childhood friends, who all live in the sa...   \n",
       "9  Yeon Shi Eun is a model student who ranks at t...   \n",
       "\n",
       "                                     Genre  \\\n",
       "0                   Life,  Drama,  Family    \n",
       "1           Romance, Youth, Drama, Fantasy   \n",
       "2  Action, Thriller, Mystery, Supernatural   \n",
       "3           Action, Comedy, Drama, Medical   \n",
       "4  Thriller,  Romance,  Crime,  Melodrama    \n",
       "5   Friendship,  Romance,  Life,  Medical    \n",
       "6   Friendship,  Romance,  Life,  Medical    \n",
       "7   Psychological,  Life,  Drama,  Family    \n",
       "8       Comedy,  Romance,  Youth,  Family    \n",
       "9                     Action, Youth, Drama   \n",
       "\n",
       "                                                Tags  \\\n",
       "0  Autism, Uncle-Nephew Relationship, Death, Sava...   \n",
       "1  Time Travel, Child From The Future, Sign Langu...   \n",
       "2  Graphic Violence, Supernatural Power, Multiple...   \n",
       "3  Surgeon Male Lead, Hospital Setting, Mentor-Me...   \n",
       "4  Married Couple, Deception, Suspense, Family Se...   \n",
       "5  Strong Friendship, Multiple Mains, Best Friend...   \n",
       "6  Workplace, Strong Friendship, Best Friends, Mu...   \n",
       "7  Age Gap, Nice Male Lead, Strong Female Lead, H...   \n",
       "8  Neighbors, Slice Of Life, Childhood Friends, M...   \n",
       "9  Bromance, Smart Male Lead, Violence, School Bu...   \n",
       "\n",
       "                                              Actors  \n",
       "0  Lee Je Hoon, Tang Jun Sang, Hong Seung Hee, Ju...  \n",
       "1  Ha Eun-Gyeol, Ha Yi-Chan, Choi Se-Kyung, Yoon ...  \n",
       "2           Ryu Seung Ryong, Han Hyo Joo, Zo In Sung  \n",
       "3  Ju Ji Hoon, Choo Young Woo, Ha Young, Yoon Gyu...  \n",
       "4  Lee Joon Gi, Moon Chae Won, Jang Hee Jin, Seo ...  \n",
       "5  Jo Jung Suk, Yoo Yeon Seok, Jung Kyung Ho, Kim...  \n",
       "6  Jo Jung Suk, Yoo Yeon Seok, Jung Kyung Ho, Kim...  \n",
       "7  Lee Sun Kyun, IU, Park Ho San, Song Sae Byuk, ...  \n",
       "8  Lee Hye Ri, Go Kyung Pyo, Ryu Joon Yeol, Park ...  \n",
       "9  Park Ji Hoon, Choi Hyun Wook, Hong Kyung, Kim ...  "
      ]
     },
     "execution_count": 16,
     "metadata": {},
     "output_type": "execute_result"
    }
   ],
   "source": [
    "df.head(10)"
   ]
  },
  {
   "cell_type": "markdown",
   "metadata": {},
   "source": [
    "### Let's see the bottom-10 rank drama"
   ]
  },
  {
   "cell_type": "code",
   "execution_count": 17,
   "metadata": {
    "execution": {
     "iopub.execute_input": "2025-03-31T10:18:45.375296Z",
     "iopub.status.busy": "2025-03-31T10:18:45.374948Z",
     "iopub.status.idle": "2025-03-31T10:18:45.405992Z",
     "shell.execute_reply": "2025-03-31T10:18:45.404698Z",
     "shell.execute_reply.started": "2025-03-31T10:18:45.375270Z"
    }
   },
   "outputs": [
    {
     "data": {
      "text/html": [
       "<div>\n",
       "<style scoped>\n",
       "    .dataframe tbody tr th:only-of-type {\n",
       "        vertical-align: middle;\n",
       "    }\n",
       "\n",
       "    .dataframe tbody tr th {\n",
       "        vertical-align: top;\n",
       "    }\n",
       "\n",
       "    .dataframe thead th {\n",
       "        text-align: right;\n",
       "    }\n",
       "</style>\n",
       "<table border=\"1\" class=\"dataframe\">\n",
       "  <thead>\n",
       "    <tr style=\"text-align: right;\">\n",
       "      <th></th>\n",
       "      <th>Rank</th>\n",
       "      <th>Title</th>\n",
       "      <th>Year of release</th>\n",
       "      <th>Number of Episodes</th>\n",
       "      <th>Rating</th>\n",
       "      <th>Description</th>\n",
       "      <th>Genre</th>\n",
       "      <th>Tags</th>\n",
       "      <th>Actors</th>\n",
       "    </tr>\n",
       "  </thead>\n",
       "  <tbody>\n",
       "    <tr>\n",
       "      <th>340</th>\n",
       "      <td>341</td>\n",
       "      <td>Kick Kick Kick Kick</td>\n",
       "      <td>2025</td>\n",
       "      <td>12</td>\n",
       "      <td>7.2</td>\n",
       "      <td>Ji Jin Hui used to be a popular actor and ente...</td>\n",
       "      <td>Comedy, Sitcom</td>\n",
       "      <td>Actor Male Lead, Company President (CEO) Male ...</td>\n",
       "      <td>Ji Jin Hee, Lee Kyu Hyung, Baek Ji Won, Lee Mi...</td>\n",
       "    </tr>\n",
       "    <tr>\n",
       "      <th>341</th>\n",
       "      <td>342</td>\n",
       "      <td>Strangers Again</td>\n",
       "      <td>2023</td>\n",
       "      <td>12</td>\n",
       "      <td>7.2</td>\n",
       "      <td>Oh Ha Ra is a hotshot divorce lawyer whose nic...</td>\n",
       "      <td>Law, Romance, Drama</td>\n",
       "      <td>Bickering Mains' Relationship, Ex-spouse Relat...</td>\n",
       "      <td>Kang So Ra, Jang Seung Jo</td>\n",
       "    </tr>\n",
       "    <tr>\n",
       "      <th>342</th>\n",
       "      <td>343</td>\n",
       "      <td>Race</td>\n",
       "      <td>2023</td>\n",
       "      <td>12</td>\n",
       "      <td>7.2</td>\n",
       "      <td>Office politics take center stage for marketer...</td>\n",
       "      <td>Business, Romance, Drama, Melodrama</td>\n",
       "      <td>Assistant Manager Female Lead, Co-workers' Rel...</td>\n",
       "      <td>Lee Yun Hee, Hong Jong Hyun, Moon So Ri, U-Know</td>\n",
       "    </tr>\n",
       "    <tr>\n",
       "      <th>343</th>\n",
       "      <td>344</td>\n",
       "      <td>Dare to Love Me</td>\n",
       "      <td>2024</td>\n",
       "      <td>16</td>\n",
       "      <td>7.1</td>\n",
       "      <td>Shin Yoon Bok, a disciplined scholar from Seon...</td>\n",
       "      <td>Comedy, Romance</td>\n",
       "      <td>Older Woman/Younger Man, Emotionally Strong Fe...</td>\n",
       "      <td>L, Lee Yoo Young, Bae Jong Ok, Sunwoo Jae Duk</td>\n",
       "    </tr>\n",
       "    <tr>\n",
       "      <th>344</th>\n",
       "      <td>345</td>\n",
       "      <td>Hierarchy</td>\n",
       "      <td>2024</td>\n",
       "      <td>7</td>\n",
       "      <td>6.9</td>\n",
       "      <td>Jooshin High School, the most prestigious in S...</td>\n",
       "      <td>Thriller, Mystery, Romance, Youth</td>\n",
       "      <td>Rich Family, School Bullying, Love Triangle, D...</td>\n",
       "      <td>Roh Jeong Eui, Lee Chae Min, Kim Jae Won, Ji H...</td>\n",
       "    </tr>\n",
       "    <tr>\n",
       "      <th>345</th>\n",
       "      <td>346</td>\n",
       "      <td>Oh! Youngsim</td>\n",
       "      <td>2023</td>\n",
       "      <td>10</td>\n",
       "      <td>6.9</td>\n",
       "      <td>Oh Young Sim, a 30-something TV variety show P...</td>\n",
       "      <td>Comedy, Romance</td>\n",
       "      <td>Childhood Acquaintances Reuniting, Producer Fe...</td>\n",
       "      <td>Song Ha Yoon, Lee Dong Hae, Lee Min Jae, Ryu H...</td>\n",
       "    </tr>\n",
       "    <tr>\n",
       "      <th>346</th>\n",
       "      <td>347</td>\n",
       "      <td>DNA Lover</td>\n",
       "      <td>2024</td>\n",
       "      <td>16</td>\n",
       "      <td>6.9</td>\n",
       "      <td>So Jin, a genetic researcher who loves DNA, de...</td>\n",
       "      <td>Comedy, Romance, Melodrama</td>\n",
       "      <td>Medical Research, Medical, Columnist Female Le...</td>\n",
       "      <td>Choi Si Won, Jung In Sun, Jung Eugene, Lee Tae...</td>\n",
       "    </tr>\n",
       "    <tr>\n",
       "      <th>347</th>\n",
       "      <td>348</td>\n",
       "      <td>Our Love Triangle</td>\n",
       "      <td>2024</td>\n",
       "      <td>10</td>\n",
       "      <td>6.9</td>\n",
       "      <td>Hae Rin, a university student, finds herself t...</td>\n",
       "      <td>Romance, Youth</td>\n",
       "      <td>Tsundere Male Lead, Ex Comes Back, Passionate ...</td>\n",
       "      <td>Gong Chan, Ahn Se Min, Kim Si Gyeong</td>\n",
       "    </tr>\n",
       "    <tr>\n",
       "      <th>348</th>\n",
       "      <td>349</td>\n",
       "      <td>The Brave Yong Su Jeong</td>\n",
       "      <td>2024</td>\n",
       "      <td>124</td>\n",
       "      <td>6.8</td>\n",
       "      <td>Yong Su Jeong has a refreshing charm, which he...</td>\n",
       "      <td>Romance, Drama, Melodrama</td>\n",
       "      <td>Guest House Setting, Adoptive Father-Adoptive ...</td>\n",
       "      <td>Uhm Hyun Kyung, Seo Joon Young, Im Ju Eun, Kwo...</td>\n",
       "    </tr>\n",
       "    <tr>\n",
       "      <th>349</th>\n",
       "      <td>350</td>\n",
       "      <td>Goodbye Earth</td>\n",
       "      <td>2024</td>\n",
       "      <td>12</td>\n",
       "      <td>6.4</td>\n",
       "      <td>An asteroid is on course to crash into Earth i...</td>\n",
       "      <td>Thriller, Psychological, Drama, Sci-Fi</td>\n",
       "      <td>Former Teacher Female Lead, Protective Female ...</td>\n",
       "      <td>Ahn Eun Jin, Yoo Ah In, Jeon Sung Woo, Kim Yoo...</td>\n",
       "    </tr>\n",
       "  </tbody>\n",
       "</table>\n",
       "</div>"
      ],
      "text/plain": [
       "     Rank                    Title  Year of release  Number of Episodes  \\\n",
       "340   341      Kick Kick Kick Kick             2025                  12   \n",
       "341   342          Strangers Again             2023                  12   \n",
       "342   343                    Race              2023                  12   \n",
       "343   344          Dare to Love Me             2024                  16   \n",
       "344   345                Hierarchy             2024                   7   \n",
       "345   346            Oh! Youngsim              2023                  10   \n",
       "346   347                DNA Lover             2024                  16   \n",
       "347   348        Our Love Triangle             2024                  10   \n",
       "348   349  The Brave Yong Su Jeong             2024                 124   \n",
       "349   350            Goodbye Earth             2024                  12   \n",
       "\n",
       "     Rating                                        Description  \\\n",
       "340     7.2  Ji Jin Hui used to be a popular actor and ente...   \n",
       "341     7.2  Oh Ha Ra is a hotshot divorce lawyer whose nic...   \n",
       "342     7.2  Office politics take center stage for marketer...   \n",
       "343     7.1  Shin Yoon Bok, a disciplined scholar from Seon...   \n",
       "344     6.9  Jooshin High School, the most prestigious in S...   \n",
       "345     6.9  Oh Young Sim, a 30-something TV variety show P...   \n",
       "346     6.9  So Jin, a genetic researcher who loves DNA, de...   \n",
       "347     6.9  Hae Rin, a university student, finds herself t...   \n",
       "348     6.8  Yong Su Jeong has a refreshing charm, which he...   \n",
       "349     6.4  An asteroid is on course to crash into Earth i...   \n",
       "\n",
       "                                      Genre  \\\n",
       "340                          Comedy, Sitcom   \n",
       "341                     Law, Romance, Drama   \n",
       "342     Business, Romance, Drama, Melodrama   \n",
       "343                         Comedy, Romance   \n",
       "344       Thriller, Mystery, Romance, Youth   \n",
       "345                         Comedy, Romance   \n",
       "346              Comedy, Romance, Melodrama   \n",
       "347                          Romance, Youth   \n",
       "348               Romance, Drama, Melodrama   \n",
       "349  Thriller, Psychological, Drama, Sci-Fi   \n",
       "\n",
       "                                                  Tags  \\\n",
       "340  Actor Male Lead, Company President (CEO) Male ...   \n",
       "341  Bickering Mains' Relationship, Ex-spouse Relat...   \n",
       "342  Assistant Manager Female Lead, Co-workers' Rel...   \n",
       "343  Older Woman/Younger Man, Emotionally Strong Fe...   \n",
       "344  Rich Family, School Bullying, Love Triangle, D...   \n",
       "345  Childhood Acquaintances Reuniting, Producer Fe...   \n",
       "346  Medical Research, Medical, Columnist Female Le...   \n",
       "347  Tsundere Male Lead, Ex Comes Back, Passionate ...   \n",
       "348  Guest House Setting, Adoptive Father-Adoptive ...   \n",
       "349  Former Teacher Female Lead, Protective Female ...   \n",
       "\n",
       "                                                Actors  \n",
       "340  Ji Jin Hee, Lee Kyu Hyung, Baek Ji Won, Lee Mi...  \n",
       "341                          Kang So Ra, Jang Seung Jo  \n",
       "342    Lee Yun Hee, Hong Jong Hyun, Moon So Ri, U-Know  \n",
       "343      L, Lee Yoo Young, Bae Jong Ok, Sunwoo Jae Duk  \n",
       "344  Roh Jeong Eui, Lee Chae Min, Kim Jae Won, Ji H...  \n",
       "345  Song Ha Yoon, Lee Dong Hae, Lee Min Jae, Ryu H...  \n",
       "346  Choi Si Won, Jung In Sun, Jung Eugene, Lee Tae...  \n",
       "347               Gong Chan, Ahn Se Min, Kim Si Gyeong  \n",
       "348  Uhm Hyun Kyung, Seo Joon Young, Im Ju Eun, Kwo...  \n",
       "349  Ahn Eun Jin, Yoo Ah In, Jeon Sung Woo, Kim Yoo...  "
      ]
     },
     "execution_count": 17,
     "metadata": {},
     "output_type": "execute_result"
    }
   ],
   "source": [
    "df.tail(10)"
   ]
  },
  {
   "cell_type": "markdown",
   "metadata": {},
   "source": [
    "### So, if you compare the top-10 and bottom-10 ranking dramas, the number of episodes can be a differentiator"
   ]
  },
  {
   "cell_type": "code",
   "execution_count": 18,
   "metadata": {
    "execution": {
     "iopub.execute_input": "2025-03-31T10:18:45.407438Z",
     "iopub.status.busy": "2025-03-31T10:18:45.407067Z",
     "iopub.status.idle": "2025-03-31T10:18:45.435276Z",
     "shell.execute_reply": "2025-03-31T10:18:45.433977Z",
     "shell.execute_reply.started": "2025-03-31T10:18:45.407404Z"
    }
   },
   "outputs": [
    {
     "data": {
      "text/html": [
       "<div>\n",
       "<style scoped>\n",
       "    .dataframe tbody tr th:only-of-type {\n",
       "        vertical-align: middle;\n",
       "    }\n",
       "\n",
       "    .dataframe tbody tr th {\n",
       "        vertical-align: top;\n",
       "    }\n",
       "\n",
       "    .dataframe thead th {\n",
       "        text-align: right;\n",
       "    }\n",
       "</style>\n",
       "<table border=\"1\" class=\"dataframe\">\n",
       "  <thead>\n",
       "    <tr style=\"text-align: right;\">\n",
       "      <th></th>\n",
       "      <th>Rank</th>\n",
       "      <th>Title</th>\n",
       "      <th>Year of release</th>\n",
       "      <th>Number of Episodes</th>\n",
       "      <th>Rating</th>\n",
       "      <th>Description</th>\n",
       "      <th>Genre</th>\n",
       "      <th>Tags</th>\n",
       "      <th>Actors</th>\n",
       "    </tr>\n",
       "  </thead>\n",
       "  <tbody>\n",
       "    <tr>\n",
       "      <th>0</th>\n",
       "      <td>1</td>\n",
       "      <td>Move to Heaven</td>\n",
       "      <td>2021</td>\n",
       "      <td>10</td>\n",
       "      <td>9.2</td>\n",
       "      <td>Geu Roo is a young autistic man. He works for ...</td>\n",
       "      <td>Life,  Drama,  Family</td>\n",
       "      <td>Autism, Uncle-Nephew Relationship, Death, Sava...</td>\n",
       "      <td>Lee Je Hoon, Tang Jun Sang, Hong Seung Hee, Ju...</td>\n",
       "    </tr>\n",
       "    <tr>\n",
       "      <th>1</th>\n",
       "      <td>2</td>\n",
       "      <td>Twinkling Watermelon</td>\n",
       "      <td>2023</td>\n",
       "      <td>16</td>\n",
       "      <td>9.2</td>\n",
       "      <td>In 2023, high school student Eun Gyeol, a CODA...</td>\n",
       "      <td>Romance, Youth, Drama, Fantasy</td>\n",
       "      <td>Time Travel, Child From The Future, Sign Langu...</td>\n",
       "      <td>Ha Eun-Gyeol, Ha Yi-Chan, Choi Se-Kyung, Yoon ...</td>\n",
       "    </tr>\n",
       "    <tr>\n",
       "      <th>2</th>\n",
       "      <td>3</td>\n",
       "      <td>Moving</td>\n",
       "      <td>2023</td>\n",
       "      <td>20</td>\n",
       "      <td>9.1</td>\n",
       "      <td>Kim Bong Seok, Jang Hui Su, and Lee Gang Hun, ...</td>\n",
       "      <td>Action, Thriller, Mystery, Supernatural</td>\n",
       "      <td>Graphic Violence, Supernatural Power, Multiple...</td>\n",
       "      <td>Ryu Seung Ryong, Han Hyo Joo, Zo In Sung</td>\n",
       "    </tr>\n",
       "    <tr>\n",
       "      <th>3</th>\n",
       "      <td>4</td>\n",
       "      <td>The Trauma Code: Heroes on Call</td>\n",
       "      <td>2025</td>\n",
       "      <td>8</td>\n",
       "      <td>9.1</td>\n",
       "      <td>Baek Gang Hyeok, a genius trauma surgeon with ...</td>\n",
       "      <td>Action, Comedy, Drama, Medical</td>\n",
       "      <td>Surgeon Male Lead, Hospital Setting, Mentor-Me...</td>\n",
       "      <td>Ju Ji Hoon, Choo Young Woo, Ha Young, Yoon Gyu...</td>\n",
       "    </tr>\n",
       "    <tr>\n",
       "      <th>4</th>\n",
       "      <td>5</td>\n",
       "      <td>Flower of Evil</td>\n",
       "      <td>2020</td>\n",
       "      <td>16</td>\n",
       "      <td>9.1</td>\n",
       "      <td>Although Baek Hee Sung is hiding a dark secret...</td>\n",
       "      <td>Thriller,  Romance,  Crime,  Melodrama</td>\n",
       "      <td>Married Couple, Deception, Suspense, Family Se...</td>\n",
       "      <td>Lee Joon Gi, Moon Chae Won, Jang Hee Jin, Seo ...</td>\n",
       "    </tr>\n",
       "  </tbody>\n",
       "</table>\n",
       "</div>"
      ],
      "text/plain": [
       "   Rank                             Title  Year of release  \\\n",
       "0     1                    Move to Heaven             2021   \n",
       "1     2              Twinkling Watermelon             2023   \n",
       "2     3                            Moving             2023   \n",
       "3     4  The Trauma Code: Heroes on Call              2025   \n",
       "4     5                    Flower of Evil             2020   \n",
       "\n",
       "   Number of Episodes  Rating  \\\n",
       "0                  10     9.2   \n",
       "1                  16     9.2   \n",
       "2                  20     9.1   \n",
       "3                   8     9.1   \n",
       "4                  16     9.1   \n",
       "\n",
       "                                         Description  \\\n",
       "0  Geu Roo is a young autistic man. He works for ...   \n",
       "1  In 2023, high school student Eun Gyeol, a CODA...   \n",
       "2  Kim Bong Seok, Jang Hui Su, and Lee Gang Hun, ...   \n",
       "3  Baek Gang Hyeok, a genius trauma surgeon with ...   \n",
       "4  Although Baek Hee Sung is hiding a dark secret...   \n",
       "\n",
       "                                     Genre  \\\n",
       "0                   Life,  Drama,  Family    \n",
       "1           Romance, Youth, Drama, Fantasy   \n",
       "2  Action, Thriller, Mystery, Supernatural   \n",
       "3           Action, Comedy, Drama, Medical   \n",
       "4  Thriller,  Romance,  Crime,  Melodrama    \n",
       "\n",
       "                                                Tags  \\\n",
       "0  Autism, Uncle-Nephew Relationship, Death, Sava...   \n",
       "1  Time Travel, Child From The Future, Sign Langu...   \n",
       "2  Graphic Violence, Supernatural Power, Multiple...   \n",
       "3  Surgeon Male Lead, Hospital Setting, Mentor-Me...   \n",
       "4  Married Couple, Deception, Suspense, Family Se...   \n",
       "\n",
       "                                              Actors  \n",
       "0  Lee Je Hoon, Tang Jun Sang, Hong Seung Hee, Ju...  \n",
       "1  Ha Eun-Gyeol, Ha Yi-Chan, Choi Se-Kyung, Yoon ...  \n",
       "2           Ryu Seung Ryong, Han Hyo Joo, Zo In Sung  \n",
       "3  Ju Ji Hoon, Choo Young Woo, Ha Young, Yoon Gyu...  \n",
       "4  Lee Joon Gi, Moon Chae Won, Jang Hee Jin, Seo ...  "
      ]
     },
     "execution_count": 18,
     "metadata": {},
     "output_type": "execute_result"
    }
   ],
   "source": [
    "df.head()"
   ]
  },
  {
   "cell_type": "markdown",
   "metadata": {},
   "source": [
    "### I want to create a recommender system out of this dataset. For that, I would like to create just one column containing columns like Description, Genre, Tags, and Actors."
   ]
  },
  {
   "cell_type": "code",
   "execution_count": 19,
   "metadata": {
    "execution": {
     "iopub.execute_input": "2025-03-31T10:18:45.436809Z",
     "iopub.status.busy": "2025-03-31T10:18:45.436425Z",
     "iopub.status.idle": "2025-03-31T10:18:45.463053Z",
     "shell.execute_reply": "2025-03-31T10:18:45.461992Z",
     "shell.execute_reply.started": "2025-03-31T10:18:45.436774Z"
    }
   },
   "outputs": [],
   "source": [
    "df['Genre']=df['Genre'].apply(lambda x: x.split(\",\"))\n",
    "df['Tags']=df['Tags'].apply(lambda x: x.split(\",\"))\n",
    "df['Actors']=df['Actors'].apply(lambda x: x.split(\",\"))\n",
    "df['Description']=df['Description'].apply(lambda x: x.split())"
   ]
  },
  {
   "cell_type": "code",
   "execution_count": 20,
   "metadata": {
    "execution": {
     "iopub.execute_input": "2025-03-31T10:18:45.464445Z",
     "iopub.status.busy": "2025-03-31T10:18:45.464154Z",
     "iopub.status.idle": "2025-03-31T10:18:45.495191Z",
     "shell.execute_reply": "2025-03-31T10:18:45.494098Z",
     "shell.execute_reply.started": "2025-03-31T10:18:45.464419Z"
    }
   },
   "outputs": [],
   "source": [
    "df['Genre']=df['Genre'].apply(lambda x: [i.replace(\" \", \"\") for i in x])\n",
    "df['Tags']=df['Tags'].apply(lambda x: [i.replace(\" \", \"\") for i in x])\n",
    "df['Actors']=df['Actors'].apply(lambda x: [i.replace(\" \", \"\") for i in x])\n",
    "df['Description']=df['Description'].apply(lambda x: [i.replace(\" \", \"\") for i in x])"
   ]
  },
  {
   "cell_type": "code",
   "execution_count": 21,
   "metadata": {
    "execution": {
     "iopub.execute_input": "2025-03-31T10:18:45.497182Z",
     "iopub.status.busy": "2025-03-31T10:18:45.496786Z",
     "iopub.status.idle": "2025-03-31T10:18:45.519390Z",
     "shell.execute_reply": "2025-03-31T10:18:45.518266Z",
     "shell.execute_reply.started": "2025-03-31T10:18:45.497147Z"
    }
   },
   "outputs": [],
   "source": [
    "df['New Tags']=df['Description']+df['Genre']+df['Tags']+df['Actors']"
   ]
  },
  {
   "cell_type": "code",
   "execution_count": 22,
   "metadata": {
    "execution": {
     "iopub.execute_input": "2025-03-31T10:18:45.520853Z",
     "iopub.status.busy": "2025-03-31T10:18:45.520498Z",
     "iopub.status.idle": "2025-03-31T10:18:45.540587Z",
     "shell.execute_reply": "2025-03-31T10:18:45.539280Z",
     "shell.execute_reply.started": "2025-03-31T10:18:45.520815Z"
    }
   },
   "outputs": [],
   "source": [
    "new_df=df[['Rank', 'Title', 'Number of Episodes', 'Rating', 'New Tags']]"
   ]
  },
  {
   "cell_type": "code",
   "execution_count": 23,
   "metadata": {
    "execution": {
     "iopub.execute_input": "2025-03-31T10:18:45.542086Z",
     "iopub.status.busy": "2025-03-31T10:18:45.541690Z",
     "iopub.status.idle": "2025-03-31T10:18:45.562942Z",
     "shell.execute_reply": "2025-03-31T10:18:45.561797Z",
     "shell.execute_reply.started": "2025-03-31T10:18:45.542047Z"
    }
   },
   "outputs": [
    {
     "name": "stdout",
     "output_type": "stream",
     "text": [
      "['Geu', 'Roo', 'is', 'a', 'young', 'autistic', 'man.', 'He', 'works', 'for', 'his', 'father’s', 'business', '“Move', 'To', 'Heaven.”', 'Their', 'job', 'is', 'to', 'arrange', 'items', 'left', 'by', 'deceased', 'people.', 'One', 'day,', 'Geu', \"Roo's\", 'own', 'father', 'dies.', 'Geu', 'Roo', 'is', 'left', 'alone,', 'but', 'his', 'uncle', 'Sang', 'Koo', 'suddenly', 'appears', 'in', 'front', 'of', 'him.', 'Sang', 'Koo', 'is', 'a', 'cold', 'man.', 'He', 'was', 'a', 'martial', 'artist', 'who', 'fought', 'in', 'underground', 'matches.', 'He', 'went', 'to', 'prison', 'because', 'of', 'what', 'happened', 'at', 'his', 'fight.', 'Sang', 'Koo', 'now', 'becomes', 'Geu', 'Roo’s', 'guardian.', 'They', 'run', '“Move', 'To', 'Heaven”', 'together.', 'Life', 'Drama', 'Family', 'Autism', 'Uncle-NephewRelationship', 'Death', 'SavantSyndrome', 'Mourning', 'Tearjerker', 'Father-SonRelationship', 'LifeLesson', 'Ex-convict', 'CleaningAndOrganizing', 'LeeJeHoon', 'TangJunSang', 'HongSeungHee', 'JungSukYong', 'JungYoungJoo', 'LeeMoonShik']\n"
     ]
    }
   ],
   "source": [
    "print(new_df['New Tags'][0])"
   ]
  },
  {
   "cell_type": "code",
   "execution_count": 24,
   "metadata": {
    "execution": {
     "iopub.execute_input": "2025-03-31T10:18:45.564327Z",
     "iopub.status.busy": "2025-03-31T10:18:45.563985Z",
     "iopub.status.idle": "2025-03-31T10:18:45.583055Z",
     "shell.execute_reply": "2025-03-31T10:18:45.581947Z",
     "shell.execute_reply.started": "2025-03-31T10:18:45.564290Z"
    }
   },
   "outputs": [],
   "source": [
    "new_df['New Tags']=new_df['New Tags'].apply(lambda x: \" \".join(x))"
   ]
  },
  {
   "cell_type": "code",
   "execution_count": 25,
   "metadata": {
    "execution": {
     "iopub.execute_input": "2025-03-31T10:18:45.584403Z",
     "iopub.status.busy": "2025-03-31T10:18:45.584100Z",
     "iopub.status.idle": "2025-03-31T10:18:45.602624Z",
     "shell.execute_reply": "2025-03-31T10:18:45.601462Z",
     "shell.execute_reply.started": "2025-03-31T10:18:45.584343Z"
    }
   },
   "outputs": [
    {
     "name": "stdout",
     "output_type": "stream",
     "text": [
      "Geu Roo is a young autistic man. He works for his father’s business “Move To Heaven.” Their job is to arrange items left by deceased people. One day, Geu Roo's own father dies. Geu Roo is left alone, but his uncle Sang Koo suddenly appears in front of him. Sang Koo is a cold man. He was a martial artist who fought in underground matches. He went to prison because of what happened at his fight. Sang Koo now becomes Geu Roo’s guardian. They run “Move To Heaven” together. Life Drama Family Autism Uncle-NephewRelationship Death SavantSyndrome Mourning Tearjerker Father-SonRelationship LifeLesson Ex-convict CleaningAndOrganizing LeeJeHoon TangJunSang HongSeungHee JungSukYong JungYoungJoo LeeMoonShik\n"
     ]
    }
   ],
   "source": [
    "print(new_df['New Tags'][0])"
   ]
  },
  {
   "cell_type": "code",
   "execution_count": 26,
   "metadata": {
    "execution": {
     "iopub.execute_input": "2025-03-31T10:18:45.604031Z",
     "iopub.status.busy": "2025-03-31T10:18:45.603651Z",
     "iopub.status.idle": "2025-03-31T10:18:45.623040Z",
     "shell.execute_reply": "2025-03-31T10:18:45.621696Z",
     "shell.execute_reply.started": "2025-03-31T10:18:45.603992Z"
    }
   },
   "outputs": [],
   "source": [
    "new_df['New Tags']=new_df['New Tags'].apply(lambda x: x.lower())"
   ]
  },
  {
   "cell_type": "code",
   "execution_count": 27,
   "metadata": {
    "execution": {
     "iopub.execute_input": "2025-03-31T10:18:45.629119Z",
     "iopub.status.busy": "2025-03-31T10:18:45.628670Z",
     "iopub.status.idle": "2025-03-31T10:18:45.645198Z",
     "shell.execute_reply": "2025-03-31T10:18:45.643969Z",
     "shell.execute_reply.started": "2025-03-31T10:18:45.629069Z"
    }
   },
   "outputs": [
    {
     "name": "stdout",
     "output_type": "stream",
     "text": [
      "geu roo is a young autistic man. he works for his father’s business “move to heaven.” their job is to arrange items left by deceased people. one day, geu roo's own father dies. geu roo is left alone, but his uncle sang koo suddenly appears in front of him. sang koo is a cold man. he was a martial artist who fought in underground matches. he went to prison because of what happened at his fight. sang koo now becomes geu roo’s guardian. they run “move to heaven” together. life drama family autism uncle-nephewrelationship death savantsyndrome mourning tearjerker father-sonrelationship lifelesson ex-convict cleaningandorganizing leejehoon tangjunsang hongseunghee jungsukyong jungyoungjoo leemoonshik\n"
     ]
    }
   ],
   "source": [
    "print(new_df['New Tags'][0])"
   ]
  },
  {
   "cell_type": "code",
   "execution_count": 28,
   "metadata": {
    "execution": {
     "iopub.execute_input": "2025-03-31T10:18:45.647698Z",
     "iopub.status.busy": "2025-03-31T10:18:45.647052Z",
     "iopub.status.idle": "2025-03-31T10:18:45.663242Z",
     "shell.execute_reply": "2025-03-31T10:18:45.662093Z",
     "shell.execute_reply.started": "2025-03-31T10:18:45.647654Z"
    }
   },
   "outputs": [],
   "source": [
    "cv=CountVectorizer(max_features=5000, stop_words='english')"
   ]
  },
  {
   "cell_type": "code",
   "execution_count": 29,
   "metadata": {
    "execution": {
     "iopub.execute_input": "2025-03-31T10:18:45.664913Z",
     "iopub.status.busy": "2025-03-31T10:18:45.664477Z",
     "iopub.status.idle": "2025-03-31T10:18:45.685820Z",
     "shell.execute_reply": "2025-03-31T10:18:45.684432Z",
     "shell.execute_reply.started": "2025-03-31T10:18:45.664849Z"
    }
   },
   "outputs": [],
   "source": [
    "ps=PorterStemmer()"
   ]
  },
  {
   "cell_type": "code",
   "execution_count": 30,
   "metadata": {
    "execution": {
     "iopub.execute_input": "2025-03-31T10:18:45.687456Z",
     "iopub.status.busy": "2025-03-31T10:18:45.687070Z",
     "iopub.status.idle": "2025-03-31T10:18:45.705330Z",
     "shell.execute_reply": "2025-03-31T10:18:45.704220Z",
     "shell.execute_reply.started": "2025-03-31T10:18:45.687420Z"
    }
   },
   "outputs": [],
   "source": [
    "def stem(text):\n",
    "    op=[]\n",
    "    for i in text.split():\n",
    "        op.append(ps.stem(i))\n",
    "    return \" \".join(op)"
   ]
  },
  {
   "cell_type": "code",
   "execution_count": 31,
   "metadata": {
    "execution": {
     "iopub.execute_input": "2025-03-31T10:18:45.706973Z",
     "iopub.status.busy": "2025-03-31T10:18:45.706578Z",
     "iopub.status.idle": "2025-03-31T10:18:46.406938Z",
     "shell.execute_reply": "2025-03-31T10:18:46.405917Z",
     "shell.execute_reply.started": "2025-03-31T10:18:45.706940Z"
    }
   },
   "outputs": [
    {
     "data": {
      "text/plain": [
       "0      geu roo is a young autist man. he work for hi ...\n",
       "1      in 2023, high school student eun gyeol, a coda...\n",
       "2      kim bong seok, jang hui su, and lee gang hun, ...\n",
       "3      baek gang hyeok, a geniu trauma surgeon with e...\n",
       "4      although baek hee sung is hide a dark secret s...\n",
       "                             ...                        \n",
       "345    oh young sim, a 30-someth tv varieti show pd, ...\n",
       "346    so jin, a genet research who love dna, decid t...\n",
       "347    hae rin, a univers student, find herself torn ...\n",
       "348    yong su jeong ha a refresh charm, which help h...\n",
       "349    an asteroid is on cours to crash into earth in...\n",
       "Name: New Tags, Length: 350, dtype: object"
      ]
     },
     "execution_count": 31,
     "metadata": {},
     "output_type": "execute_result"
    }
   ],
   "source": [
    "new_df['New Tags'].apply(stem)"
   ]
  },
  {
   "cell_type": "code",
   "execution_count": 32,
   "metadata": {
    "execution": {
     "iopub.execute_input": "2025-03-31T10:18:46.408138Z",
     "iopub.status.busy": "2025-03-31T10:18:46.407833Z",
     "iopub.status.idle": "2025-03-31T10:18:46.489048Z",
     "shell.execute_reply": "2025-03-31T10:18:46.488048Z",
     "shell.execute_reply.started": "2025-03-31T10:18:46.408113Z"
    }
   },
   "outputs": [],
   "source": [
    "vectors=cv.fit_transform(new_df['New Tags']).toarray()"
   ]
  },
  {
   "cell_type": "code",
   "execution_count": 33,
   "metadata": {
    "execution": {
     "iopub.execute_input": "2025-03-31T10:18:46.489944Z",
     "iopub.status.busy": "2025-03-31T10:18:46.489651Z",
     "iopub.status.idle": "2025-03-31T10:18:46.498364Z",
     "shell.execute_reply": "2025-03-31T10:18:46.497320Z",
     "shell.execute_reply.started": "2025-03-31T10:18:46.489921Z"
    }
   },
   "outputs": [
    {
     "name": "stdout",
     "output_type": "stream",
     "text": [
      "['000' '10' '112' '12' '13' '15' '16' '17' '18' '19' '1930s' '1980s'\n",
      " '1987' '1990s' '19th' '20' '2017' '2023' '2037' '20s' '21st' '24' '26'\n",
      " '27' '30' '33' '34' '37' '400' '45' '49' '50s' '7th' '8th' 'abandoned'\n",
      " 'abilities' 'ability' 'able' 'absence' 'absolute']\n"
     ]
    }
   ],
   "source": [
    "print(cv.get_feature_names_out()[:40])"
   ]
  },
  {
   "cell_type": "code",
   "execution_count": 34,
   "metadata": {
    "execution": {
     "iopub.execute_input": "2025-03-31T10:18:46.500018Z",
     "iopub.status.busy": "2025-03-31T10:18:46.499619Z",
     "iopub.status.idle": "2025-03-31T10:18:46.574606Z",
     "shell.execute_reply": "2025-03-31T10:18:46.573466Z",
     "shell.execute_reply.started": "2025-03-31T10:18:46.499984Z"
    }
   },
   "outputs": [],
   "source": [
    "similarity=cosine_similarity(vectors)"
   ]
  },
  {
   "cell_type": "code",
   "execution_count": 35,
   "metadata": {
    "execution": {
     "iopub.execute_input": "2025-03-31T10:18:46.575812Z",
     "iopub.status.busy": "2025-03-31T10:18:46.575517Z",
     "iopub.status.idle": "2025-03-31T10:18:46.584822Z",
     "shell.execute_reply": "2025-03-31T10:18:46.583876Z",
     "shell.execute_reply.started": "2025-03-31T10:18:46.575787Z"
    }
   },
   "outputs": [
    {
     "data": {
      "text/plain": [
       "array([1.        , 0.0858377 , 0.05396661, 0.00862069, 0.06042446,\n",
       "       0.04679083, 0.03335187, 0.08461416, 0.04040676, 0.02600255,\n",
       "       0.0877328 , 0.07221485, 0.03641785, 0.01415914, 0.09589266,\n",
       "       0.01354322, 0.        , 0.02526993, 0.        , 0.07314898,\n",
       "       0.13380773, 0.03595975, 0.02503915, 0.02600255, 0.02626129,\n",
       "       0.06114062, 0.01160596, 0.03689392, 0.10070744, 0.03282661,\n",
       "       0.04178472, 0.10093606, 0.03282661, 0.11327309, 0.08009617,\n",
       "       0.03094922, 0.03282661, 0.05360563, 0.03732617, 0.03826082,\n",
       "       0.03981726, 0.02969278, 0.05226191, 0.01575047, 0.0337783 ,\n",
       "       0.1392715 , 0.01667593, 0.03509312, 0.0164133 , 0.04518564,\n",
       "       0.04679083, 0.07511746, 0.06532079, 0.07312325, 0.06896552,\n",
       "       0.01592324, 0.11313893, 0.02130072, 0.07737306, 0.02377585,\n",
       "       0.03032392, 0.02503915, 0.07132756, 0.06283146, 0.05943963,\n",
       "       0.03039153, 0.02089236, 0.04255666, 0.16251869, 0.04062967,\n",
       "       0.06565322, 0.01957401, 0.06277648, 0.03557278, 0.06776027,\n",
       "       0.02680281, 0.03525084, 0.        , 0.03052813, 0.02888356,\n",
       "       0.01569412, 0.03329226, 0.06520199, 0.06105625, 0.01724138,\n",
       "       0.01415914, 0.1392715 , 0.04548588, 0.03390318, 0.04716666,\n",
       "       0.0427366 , 0.13990268, 0.06259789, 0.04168983, 0.0161627 ,\n",
       "       0.03418928, 0.04126563, 0.        , 0.16820088, 0.00837179,\n",
       "       0.06780635, 0.04923991, 0.0121915 , 0.04467136, 0.01287566,\n",
       "       0.01820893, 0.02050662, 0.03657449, 0.02865341, 0.01925571,\n",
       "       0.03184649, 0.25032422, 0.00873437, 0.03335187, 0.        ,\n",
       "       0.05509496, 0.04446597, 0.009787  , 0.05933056, 0.0161627 ,\n",
       "       0.12692019, 0.02274294, 0.        , 0.08452541, 0.03753145,\n",
       "       0.08464779, 0.02680281, 0.03677316, 0.03305697, 0.05007831,\n",
       "       0.10512928, 0.09380985, 0.0379049 , 0.08753762, 0.0952597 ,\n",
       "       0.04579219, 0.07873467, 0.0831482 , 0.02076137, 0.04885201,\n",
       "       0.04168983, 0.02188441, 0.12753608, 0.10710568, 0.01968367,\n",
       "       0.10985884, 0.09480257, 0.05966163, 0.14356089, 0.05190342,\n",
       "       0.01838658, 0.05985503, 0.06857255, 0.06432675, 0.01198658,\n",
       "       0.03052813, 0.00873437, 0.03329226, 0.12934164, 0.02550722,\n",
       "       0.01142876, 0.02857791, 0.09284767, 0.02791543, 0.0188545 ,\n",
       "       0.0188545 , 0.02888356, 0.04020422, 0.07050169, 0.03335187,\n",
       "       0.05433499, 0.01895245, 0.02556759, 0.11448047, 0.04442855,\n",
       "       0.        , 0.02063282, 0.03232541, 0.0428845 , 0.02608794,\n",
       "       0.01142876, 0.02667958, 0.03418928, 0.15061881, 0.03137032,\n",
       "       0.04794633, 0.06963575, 0.06189845, 0.03282661, 0.01211343,\n",
       "       0.00854732, 0.07385987, 0.01674358, 0.01415914, 0.01734133,\n",
       "       0.05090673, 0.02339541, 0.03936733, 0.07014485, 0.05800148,\n",
       "       0.03893232, 0.06780635, 0.01667593, 0.00962785, 0.03463236,\n",
       "       0.06024752, 0.06060663, 0.07133949, 0.01188793, 0.11817579,\n",
       "       0.0337783 , 0.04474623, 0.0295255 , 0.09855275, 0.04630586,\n",
       "       0.        , 0.05588773, 0.01979519, 0.03657449, 0.02731339,\n",
       "       0.03173005, 0.02705449, 0.10276354, 0.025534  , 0.06735878,\n",
       "       0.01387952, 0.02235509, 0.05714379, 0.01610183, 0.05256464,\n",
       "       0.02358333, 0.        , 0.12697169, 0.06939521, 0.        ,\n",
       "       0.02036908, 0.07826383, 0.05473429, 0.02639359, 0.02936101,\n",
       "       0.04495685, 0.        , 0.04417979, 0.00989759, 0.11478247,\n",
       "       0.03032392, 0.04178472, 0.04666252, 0.17682218, 0.07465233,\n",
       "       0.07481878, 0.03862697, 0.16101828, 0.06998656, 0.03063179,\n",
       "       0.0541729 , 0.01326395, 0.04876598, 0.06963575, 0.02388487,\n",
       "       0.        , 0.02705449, 0.        , 0.03376279, 0.01354322,\n",
       "       0.03216338, 0.05388702, 0.02251887, 0.05462678, 0.01251958,\n",
       "       0.04185896, 0.02718301, 0.01072113, 0.03039153, 0.15582557,\n",
       "       0.        , 0.02731339, 0.05588773, 0.01079332, 0.        ,\n",
       "       0.13407108, 0.02130072, 0.07725393, 0.02087768, 0.03428627,\n",
       "       0.01044618, 0.03641785, 0.06998656, 0.        , 0.02070394,\n",
       "       0.09565579, 0.025534  , 0.0696802 , 0.03305697, 0.04346799,\n",
       "       0.02831827, 0.02417547, 0.04941354, 0.03133854, 0.03094922,\n",
       "       0.04904869, 0.01109742, 0.05106799, 0.03184649, 0.01240729,\n",
       "       0.06500637, 0.03428627, 0.05263968, 0.05416114, 0.08304548,\n",
       "       0.09911396, 0.04923991, 0.12379689, 0.01695159, 0.02014149,\n",
       "       0.06151986, 0.04579219, 0.02089236, 0.01979519, 0.0349375 ,\n",
       "       0.04438968, 0.02203798, 0.01925571, 0.03557278, 0.02076137,\n",
       "       0.0919145 , 0.07318842, 0.01151634, 0.04642383, 0.02406245,\n",
       "       0.05158204, 0.03573708, 0.05290487, 0.01667593, 0.06700703,\n",
       "       0.01468051, 0.02904012, 0.03713907, 0.02397317, 0.03441164,\n",
       "       0.02281913, 0.0349375 , 0.02600255, 0.02575131, 0.00933154,\n",
       "       0.01915301, 0.01240729, 0.        , 0.08238898, 0.05075129])"
      ]
     },
     "execution_count": 35,
     "metadata": {},
     "output_type": "execute_result"
    }
   ],
   "source": [
    "similarity[0]"
   ]
  },
  {
   "cell_type": "code",
   "execution_count": 36,
   "metadata": {
    "execution": {
     "iopub.execute_input": "2025-03-31T10:18:46.586263Z",
     "iopub.status.busy": "2025-03-31T10:18:46.585895Z",
     "iopub.status.idle": "2025-03-31T10:18:46.609276Z",
     "shell.execute_reply": "2025-03-31T10:18:46.608267Z",
     "shell.execute_reply.started": "2025-03-31T10:18:46.586234Z"
    }
   },
   "outputs": [
    {
     "data": {
      "text/html": [
       "<div>\n",
       "<style scoped>\n",
       "    .dataframe tbody tr th:only-of-type {\n",
       "        vertical-align: middle;\n",
       "    }\n",
       "\n",
       "    .dataframe tbody tr th {\n",
       "        vertical-align: top;\n",
       "    }\n",
       "\n",
       "    .dataframe thead th {\n",
       "        text-align: right;\n",
       "    }\n",
       "</style>\n",
       "<table border=\"1\" class=\"dataframe\">\n",
       "  <thead>\n",
       "    <tr style=\"text-align: right;\">\n",
       "      <th></th>\n",
       "      <th>Rank</th>\n",
       "      <th>Title</th>\n",
       "      <th>Number of Episodes</th>\n",
       "      <th>Rating</th>\n",
       "      <th>New Tags</th>\n",
       "    </tr>\n",
       "  </thead>\n",
       "  <tbody>\n",
       "    <tr>\n",
       "      <th>0</th>\n",
       "      <td>1</td>\n",
       "      <td>Move to Heaven</td>\n",
       "      <td>10</td>\n",
       "      <td>9.2</td>\n",
       "      <td>geu roo is a young autistic man. he works for ...</td>\n",
       "    </tr>\n",
       "    <tr>\n",
       "      <th>1</th>\n",
       "      <td>2</td>\n",
       "      <td>Twinkling Watermelon</td>\n",
       "      <td>16</td>\n",
       "      <td>9.2</td>\n",
       "      <td>in 2023, high school student eun gyeol, a coda...</td>\n",
       "    </tr>\n",
       "    <tr>\n",
       "      <th>2</th>\n",
       "      <td>3</td>\n",
       "      <td>Moving</td>\n",
       "      <td>20</td>\n",
       "      <td>9.1</td>\n",
       "      <td>kim bong seok, jang hui su, and lee gang hun, ...</td>\n",
       "    </tr>\n",
       "    <tr>\n",
       "      <th>3</th>\n",
       "      <td>4</td>\n",
       "      <td>The Trauma Code: Heroes on Call</td>\n",
       "      <td>8</td>\n",
       "      <td>9.1</td>\n",
       "      <td>baek gang hyeok, a genius trauma surgeon with ...</td>\n",
       "    </tr>\n",
       "    <tr>\n",
       "      <th>4</th>\n",
       "      <td>5</td>\n",
       "      <td>Flower of Evil</td>\n",
       "      <td>16</td>\n",
       "      <td>9.1</td>\n",
       "      <td>although baek hee sung is hiding a dark secret...</td>\n",
       "    </tr>\n",
       "  </tbody>\n",
       "</table>\n",
       "</div>"
      ],
      "text/plain": [
       "   Rank                             Title  Number of Episodes  Rating  \\\n",
       "0     1                    Move to Heaven                  10     9.2   \n",
       "1     2              Twinkling Watermelon                  16     9.2   \n",
       "2     3                            Moving                  20     9.1   \n",
       "3     4  The Trauma Code: Heroes on Call                    8     9.1   \n",
       "4     5                    Flower of Evil                  16     9.1   \n",
       "\n",
       "                                            New Tags  \n",
       "0  geu roo is a young autistic man. he works for ...  \n",
       "1  in 2023, high school student eun gyeol, a coda...  \n",
       "2  kim bong seok, jang hui su, and lee gang hun, ...  \n",
       "3  baek gang hyeok, a genius trauma surgeon with ...  \n",
       "4  although baek hee sung is hiding a dark secret...  "
      ]
     },
     "execution_count": 36,
     "metadata": {},
     "output_type": "execute_result"
    }
   ],
   "source": [
    "new_df.head()"
   ]
  },
  {
   "cell_type": "code",
   "execution_count": 37,
   "metadata": {
    "execution": {
     "iopub.execute_input": "2025-03-31T10:18:46.611027Z",
     "iopub.status.busy": "2025-03-31T10:18:46.610515Z",
     "iopub.status.idle": "2025-03-31T10:18:46.629142Z",
     "shell.execute_reply": "2025-03-31T10:18:46.628004Z",
     "shell.execute_reply.started": "2025-03-31T10:18:46.610987Z"
    }
   },
   "outputs": [],
   "source": [
    "def recommend(drama):\n",
    "    drama_index=new_df[new_df['Title']=='Moving'].index[0]\n",
    "    distances=similarity[drama_index]\n",
    "    drama_list=sorted(list(enumerate(similarity[0])), reverse=True, key=lambda x: x[1])[1:6]\n",
    "\n",
    "    for i in drama_list:\n",
    "        print(new_df.iloc[i[0]].Title)"
   ]
  },
  {
   "cell_type": "code",
   "execution_count": 38,
   "metadata": {
    "execution": {
     "iopub.execute_input": "2025-03-31T10:18:46.630464Z",
     "iopub.status.busy": "2025-03-31T10:18:46.630170Z",
     "iopub.status.idle": "2025-03-31T10:18:46.658767Z",
     "shell.execute_reply": "2025-03-31T10:18:46.657659Z",
     "shell.execute_reply.started": "2025-03-31T10:18:46.630438Z"
    }
   },
   "outputs": [
    {
     "name": "stdout",
     "output_type": "stream",
     "text": [
      "Save Me\n",
      "Lawless Lawyer\n",
      "My Father is Strange\n",
      "Misaeng\n",
      "Five Enough\n"
     ]
    }
   ],
   "source": [
    "recommend(\"Move to Heaven\")"
   ]
  },
  {
   "cell_type": "code",
   "execution_count": null,
   "metadata": {},
   "outputs": [],
   "source": []
  }
 ],
 "metadata": {
  "kaggle": {
   "accelerator": "none",
   "dataSources": [
    {
     "datasetId": 6882862,
     "sourceId": 11048643,
     "sourceType": "datasetVersion"
    }
   ],
   "dockerImageVersionId": 30918,
   "isGpuEnabled": false,
   "isInternetEnabled": true,
   "language": "python",
   "sourceType": "notebook"
  },
  "kernelspec": {
   "display_name": "Python 3 (ipykernel)",
   "language": "python",
   "name": "python3"
  },
  "language_info": {
   "codemirror_mode": {
    "name": "ipython",
    "version": 3
   },
   "file_extension": ".py",
   "mimetype": "text/x-python",
   "name": "python",
   "nbconvert_exporter": "python",
   "pygments_lexer": "ipython3",
   "version": "3.11.4"
  }
 },
 "nbformat": 4,
 "nbformat_minor": 4
}
